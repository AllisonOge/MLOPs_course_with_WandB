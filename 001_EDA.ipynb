{
 "cells": [
  {
   "cell_type": "code",
   "execution_count": 1,
   "metadata": {},
   "outputs": [
    {
     "name": "stderr",
     "output_type": "stream",
     "text": [
      "c:\\Users\\Allison Ogechukwu\\miniconda3\\envs\\mlops-wandb-course\\lib\\site-packages\\tqdm\\auto.py:22: TqdmWarning: IProgress not found. Please update jupyter and ipywidgets. See https://ipywidgets.readthedocs.io/en/stable/user_install.html\n",
      "  from .autonotebook import tqdm as notebook_tqdm\n"
     ]
    }
   ],
   "source": [
    "from fastai.vision.all import *\n",
    "import params # local file import\n",
    "\n",
    "import wandb"
   ]
  },
  {
   "cell_type": "code",
   "execution_count": 2,
   "metadata": {},
   "outputs": [],
   "source": [
    "URL = \"https://storage.googleapis.com/wandb_course/bdd_simple_1k.zip\""
   ]
  },
  {
   "cell_type": "code",
   "execution_count": 3,
   "metadata": {},
   "outputs": [
    {
     "data": {
      "text/html": [
       "\n",
       "<style>\n",
       "    /* Turns off some styling */\n",
       "    progress {\n",
       "        /* gets rid of default border in Firefox and Opera. */\n",
       "        border: none;\n",
       "        /* Needs to be in here for Safari polyfill so background images work as expected. */\n",
       "        background-size: auto;\n",
       "    }\n",
       "    progress:not([value]), progress:not([value])::-webkit-progress-bar {\n",
       "        background: repeating-linear-gradient(45deg, #7e7e7e, #7e7e7e 10px, #5c5c5c 10px, #5c5c5c 20px);\n",
       "    }\n",
       "    .progress-bar-interrupted, .progress-bar-interrupted::-webkit-progress-bar {\n",
       "        background: #F44336;\n",
       "    }\n",
       "</style>\n"
      ],
      "text/plain": [
       "<IPython.core.display.HTML object>"
      ]
     },
     "metadata": {},
     "output_type": "display_data"
    },
    {
     "data": {
      "text/html": [
       "\n",
       "    <div>\n",
       "      <progress value='122470400' class='' max='122467691' style='width:300px; height:20px; vertical-align: middle;'></progress>\n",
       "      100.00% [122470400/122467691 00:37&lt;00:00]\n",
       "    </div>\n",
       "    "
      ],
      "text/plain": [
       "<IPython.core.display.HTML object>"
      ]
     },
     "metadata": {},
     "output_type": "display_data"
    }
   ],
   "source": [
    "path = Path(untar_data(URL, force_download=True))"
   ]
  },
  {
   "cell_type": "code",
   "execution_count": 4,
   "metadata": {},
   "outputs": [
    {
     "data": {
      "text/plain": [
       "(#1001) [Path('C:/Users/Allison Ogechukwu/.fastai/data/bdd_simple_1k/labels/.ipynb_checkpoints'),Path('C:/Users/Allison Ogechukwu/.fastai/data/bdd_simple_1k/labels/0027eed2-09c90000_mask.png'),Path('C:/Users/Allison Ogechukwu/.fastai/data/bdd_simple_1k/labels/0027eed2-09c90001_mask.png'),Path('C:/Users/Allison Ogechukwu/.fastai/data/bdd_simple_1k/labels/00aad4a0-ee8135fe_mask.png'),Path('C:/Users/Allison Ogechukwu/.fastai/data/bdd_simple_1k/labels/00d79c0a-23befe54_mask.png'),Path('C:/Users/Allison Ogechukwu/.fastai/data/bdd_simple_1k/labels/00e69ee0-9656df95_mask.png'),Path('C:/Users/Allison Ogechukwu/.fastai/data/bdd_simple_1k/labels/00e9be89-00000130_mask.png'),Path('C:/Users/Allison Ogechukwu/.fastai/data/bdd_simple_1k/labels/00e9be89-00000175_mask.png'),Path('C:/Users/Allison Ogechukwu/.fastai/data/bdd_simple_1k/labels/00e9be89-00001025_mask.png'),Path('C:/Users/Allison Ogechukwu/.fastai/data/bdd_simple_1k/labels/00e9be89-00001030_mask.png')...]"
      ]
     },
     "execution_count": 4,
     "metadata": {},
     "output_type": "execute_result"
    }
   ],
   "source": [
    "# what is the structure of the data\n",
    "(path/\"labels\").ls()"
   ]
  },
  {
   "attachments": {},
   "cell_type": "markdown",
   "metadata": {},
   "source": [
    "We defines three functions: `label_func`, `get_classes_per_image`, and `create_table`.\n",
    "\n",
    "The `label_func` function takes a file name as an input and returns a new file path that points to a file with the same name as the input file but located in a different directory. Specifically, it constructs a new file path by taking the parent directory of the parent directory of the input file (`fname.parent.parent`) and appending a directory called \"labels\" and a file name that is the same as the input file's name stem but with \"_mask.png\" appended. The resulting file path is returned as a string.\n",
    "\n",
    "The `get_classes_per_image` function takes two arguments: `mask_data`, which is a NumPy array representing an image mask, and `class_labels`, which is a dictionary mapping class IDs to class names. The function computes a dictionary that maps each class name to a binary value indicating whether or not the corresponding class ID is present in the mask data. Specifically, it first computes a list of unique values in `mask_data`, which are assumed to correspond to class IDs. It then iterates over each class ID in the `class_labels` dictionary and checks whether it is in the list of unique values. If so, it maps the class name to 1 (indicating that the class is present in the mask), otherwise it maps it to 0. The resulting dictionary is returned.\n",
    "\n",
    "The `create_table` function takes two arguments: `image_files`, which is a list of file paths to image files, and `class_labels`, which is a dictionary mapping class IDs to class names. The function creates a new WandB table object that can be used to visualize and analyze the data in the image files. Specifically, it creates a table with columns for the file name, two additional columns derived from the file name (P1 and P2), a column for the image data (represented as a WandB Image object), a column indicating the name of the dataset (bdd1k), and additional columns for each class name in class_labels, each of which contains a binary value indicating whether or not the corresponding class is present in the image mask. The function iterates over each image file in `image_files`, opens the image file and its corresponding mask file (which is assumed to be located in the \"labels\" directory), computes the class presence dictionary using the `get_classes_per_image` function, and adds a new row to the table with the appropriate data. The resulting table is returned as a WandB Table object."
   ]
  },
  {
   "cell_type": "code",
   "execution_count": 5,
   "metadata": {},
   "outputs": [],
   "source": [
    "def label_func(fname):\n",
    "    \"\"\"get the labels of the file name\"\"\"\n",
    "    return (fname.parent.parent/\"labels\")/f\"{fname.stem}_mask.png\"\n",
    "\n",
    "def get_classes_per_image(mask_data, class_labels):\n",
    "    \"\"\"get the classes present in a mask data\"\"\"\n",
    "    unique = list(np.unique(mask_data))\n",
    "    result_dict = {}\n",
    "    for _class in class_labels.keys():\n",
    "        result_dict[class_labels[_class]] = int(_class in unique)\n",
    "    return result_dict\n",
    "\n",
    "def create_table(image_files, class_labels):\n",
    "    \"\"\"createa a WandB table with the dataset\"\"\"\n",
    "    labels = list(class_labels.values())\n",
    "    table = wandb.Table(columns=[\"File_name\", \"P1\", \"P2\", \"Images\", \"Dataset\"] + labels)\n",
    "\n",
    "    for i, image_file in progress_bar(enumerate(image_files), total=len(image_files)):\n",
    "        image = Image.open(image_file)\n",
    "        mask_data = np.array(Image.open(label_func(image_file)))\n",
    "        class_in_image = get_classes_per_image(mask_data, class_labels)\n",
    "        table.add_data(\n",
    "            image_file.stem,\n",
    "            image_file.stem.split(\"-\")[0],\n",
    "            image_file.stem.split(\"-\")[1],\n",
    "            wandb.Image(\n",
    "                image,\n",
    "                masks={\n",
    "                    \"predictions\": {\n",
    "                        \"mask_data\": mask_data,\n",
    "                        \"class_labels\": class_labels,\n",
    "                    }\n",
    "                } \n",
    "            ),\n",
    "            \"bdd1k\",\n",
    "            *[class_in_image[_lab] for _lab in labels]\n",
    "        )\n",
    "\n",
    "    return table"
   ]
  },
  {
   "cell_type": "code",
   "execution_count": 6,
   "metadata": {},
   "outputs": [
    {
     "name": "stderr",
     "output_type": "stream",
     "text": [
      "Failed to detect the name of this notebook, you can set it manually with the WANDB_NOTEBOOK_NAME environment variable to enable code saving.\n",
      "\u001b[34m\u001b[1mwandb\u001b[0m: W&B API key is configured. Use \u001b[1m`wandb login --relogin`\u001b[0m to force relogin\n"
     ]
    },
    {
     "data": {
      "text/html": [
       "Tracking run with wandb version 0.13.7"
      ],
      "text/plain": [
       "<IPython.core.display.HTML object>"
      ]
     },
     "metadata": {},
     "output_type": "display_data"
    },
    {
     "data": {
      "text/html": [
       "Run data is saved locally in <code>c:\\Users\\Allison Ogechukwu\\Desktop\\python_projects\\MLOPs course with WandB\\wandb\\run-20221218_162700-3hnfos23</code>"
      ],
      "text/plain": [
       "<IPython.core.display.HTML object>"
      ]
     },
     "metadata": {},
     "output_type": "display_data"
    },
    {
     "data": {
      "text/html": [
       "Syncing run <strong><a href=\"https://wandb.ai/ohgay/mlops-course-001/runs/3hnfos23\" target=\"_blank\">upbeat-jazz-2</a></strong> to <a href=\"https://wandb.ai/ohgay/mlops-course-001\" target=\"_blank\">Weights & Biases</a> (<a href=\"https://wandb.me/run\" target=\"_blank\">docs</a>)<br/>"
      ],
      "text/plain": [
       "<IPython.core.display.HTML object>"
      ]
     },
     "metadata": {},
     "output_type": "display_data"
    }
   ],
   "source": [
    "# start a new wandb run\n",
    "run = wandb.init(project=params.WANDB_PROJECT, entity=params.ENTITY, job_type=\"upload\")"
   ]
  },
  {
   "cell_type": "code",
   "execution_count": 7,
   "metadata": {},
   "outputs": [],
   "source": [
    "# create an artifact\n",
    "artifact = wandb.Artifact(params.RAW_DATA_AT, type=\"raw_data\")"
   ]
  },
  {
   "cell_type": "code",
   "execution_count": 8,
   "metadata": {},
   "outputs": [
    {
     "data": {
      "text/plain": [
       "<ManifestEntry digest: X+6ZFkDOlnKesJCNt20yRg==>"
      ]
     },
     "execution_count": 8,
     "metadata": {},
     "output_type": "execute_result"
    }
   ],
   "source": [
    "# add file to artifact\n",
    "artifact.add_file(path/\"LICENSE.txt\", name=\"LICENSE.txt\")"
   ]
  },
  {
   "cell_type": "code",
   "execution_count": 9,
   "metadata": {},
   "outputs": [
    {
     "name": "stderr",
     "output_type": "stream",
     "text": [
      "\u001b[34m\u001b[1mwandb\u001b[0m: Adding directory to artifact (C:\\Users\\Allison Ogechukwu\\.fastai\\data\\bdd_simple_1k\\images)... Done. 20.1s\n",
      "\u001b[34m\u001b[1mwandb\u001b[0m: Adding directory to artifact (C:\\Users\\Allison Ogechukwu\\.fastai\\data\\bdd_simple_1k\\labels)... Done. 11.9s\n"
     ]
    }
   ],
   "source": [
    "# add foldaer for artifact\n",
    "artifact.add_dir(path/\"images\", name=\"images\")\n",
    "artifact.add_dir(path/\"labels\", name=\"labels\")"
   ]
  },
  {
   "cell_type": "code",
   "execution_count": 10,
   "metadata": {},
   "outputs": [],
   "source": [
    "image_files = get_image_files(path/\"images\", recurse=False)"
   ]
  },
  {
   "cell_type": "code",
   "execution_count": 11,
   "metadata": {},
   "outputs": [
    {
     "data": {
      "text/html": [
       "\n",
       "<style>\n",
       "    /* Turns off some styling */\n",
       "    progress {\n",
       "        /* gets rid of default border in Firefox and Opera. */\n",
       "        border: none;\n",
       "        /* Needs to be in here for Safari polyfill so background images work as expected. */\n",
       "        background-size: auto;\n",
       "    }\n",
       "    progress:not([value]), progress:not([value])::-webkit-progress-bar {\n",
       "        background: repeating-linear-gradient(45deg, #7e7e7e, #7e7e7e 10px, #5c5c5c 10px, #5c5c5c 20px);\n",
       "    }\n",
       "    .progress-bar-interrupted, .progress-bar-interrupted::-webkit-progress-bar {\n",
       "        background: #F44336;\n",
       "    }\n",
       "</style>\n"
      ],
      "text/plain": [
       "<IPython.core.display.HTML object>"
      ]
     },
     "metadata": {},
     "output_type": "display_data"
    },
    {
     "data": {
      "text/html": [
       "\n",
       "    <div>\n",
       "      <progress value='1000' class='' max='1000' style='width:300px; height:20px; vertical-align: middle;'></progress>\n",
       "      100.00% [1000/1000 15:04&lt;00:00]\n",
       "    </div>\n",
       "    "
      ],
      "text/plain": [
       "<IPython.core.display.HTML object>"
      ]
     },
     "metadata": {},
     "output_type": "display_data"
    }
   ],
   "source": [
    "table = create_table(image_files, params.BDD_CLASSES)"
   ]
  },
  {
   "cell_type": "code",
   "execution_count": 12,
   "metadata": {},
   "outputs": [
    {
     "data": {
      "text/plain": [
       "<ManifestEntry digest: t3YlJItMgKDwoh+KYyXthA==>"
      ]
     },
     "execution_count": 12,
     "metadata": {},
     "output_type": "execute_result"
    }
   ],
   "source": [
    "# add table to artifact\n",
    "artifact.add(table, \"eda_table\")"
   ]
  },
  {
   "cell_type": "code",
   "execution_count": 13,
   "metadata": {},
   "outputs": [
    {
     "data": {
      "text/plain": [
       "<wandb.sdk.wandb_artifacts.Artifact at 0x23537ad7cd0>"
      ]
     },
     "execution_count": 13,
     "metadata": {},
     "output_type": "execute_result"
    }
   ],
   "source": [
    "# log artifact\n",
    "run.log_artifact(artifact)"
   ]
  },
  {
   "cell_type": "code",
   "execution_count": 14,
   "metadata": {},
   "outputs": [
    {
     "data": {
      "text/html": [
       "Waiting for W&B process to finish... <strong style=\"color:green\">(success).</strong>"
      ],
      "text/plain": [
       "<IPython.core.display.HTML object>"
      ]
     },
     "metadata": {},
     "output_type": "display_data"
    },
    {
     "data": {
      "text/html": [
       "Synced <strong style=\"color:#cdcd00\">upbeat-jazz-2</strong>: <a href=\"https://wandb.ai/ohgay/mlops-course-001/runs/3hnfos23\" target=\"_blank\">https://wandb.ai/ohgay/mlops-course-001/runs/3hnfos23</a><br/>Synced 5 W&B file(s), 0 media file(s), 4007 artifact file(s) and 0 other file(s)"
      ],
      "text/plain": [
       "<IPython.core.display.HTML object>"
      ]
     },
     "metadata": {},
     "output_type": "display_data"
    },
    {
     "data": {
      "text/html": [
       "Find logs at: <code>.\\wandb\\run-20221218_162700-3hnfos23\\logs</code>"
      ],
      "text/plain": [
       "<IPython.core.display.HTML object>"
      ]
     },
     "metadata": {},
     "output_type": "display_data"
    }
   ],
   "source": [
    "# finist run\n",
    "run.finish()"
   ]
  }
 ],
 "metadata": {
  "kernelspec": {
   "display_name": "mlops-wandb-course",
   "language": "python",
   "name": "python3"
  },
  "language_info": {
   "codemirror_mode": {
    "name": "ipython",
    "version": 3
   },
   "file_extension": ".py",
   "mimetype": "text/x-python",
   "name": "python",
   "nbconvert_exporter": "python",
   "pygments_lexer": "ipython3",
   "version": "3.10.8 | packaged by conda-forge | (main, Nov 22 2022, 08:16:33) [MSC v.1929 64 bit (AMD64)]"
  },
  "orig_nbformat": 4,
  "vscode": {
   "interpreter": {
    "hash": "71417f4178d3ad1182b76735bceb8e091b2f2d54c449926e80ce762ebfcf4d2b"
   }
  }
 },
 "nbformat": 4,
 "nbformat_minor": 2
}
